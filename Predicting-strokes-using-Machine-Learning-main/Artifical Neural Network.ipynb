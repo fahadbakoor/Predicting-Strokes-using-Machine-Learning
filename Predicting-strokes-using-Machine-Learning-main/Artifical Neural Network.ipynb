{
 "cells": [
  {
   "cell_type": "code",
   "execution_count": null,
   "metadata": {
    "id": "A-GllMyM8fK9"
   },
   "outputs": [],
   "source": [
    "!pip install pandas\n",
    "!pip install numpy\n",
    "!pip install matplotlib\n",
    "!pip install seaborn\n",
    "!pip install sklearn\n",
    "!pip install keras"
   ]
  },
  {
   "cell_type": "code",
   "execution_count": 2,
   "metadata": {
    "id": "xUq48-fv-i2b"
   },
   "outputs": [],
   "source": [
    "import pandas as pd\n",
    "import numpy as np \n",
    "import matplotlib.pyplot as plt\n",
    "import seaborn as sns\n",
    "from sklearn.model_selection import train_test_split\n",
    "from sklearn.metrics import confusion_matrix\n",
    "from imblearn.over_sampling import SMOTE\n",
    "from keras.models import Sequential\n",
    "from keras.layers import Dense"
   ]
  },
  {
   "cell_type": "code",
   "execution_count": 3,
   "metadata": {
    "colab": {
     "base_uri": "https://localhost:8080/",
     "height": 206
    },
    "id": "U0ze9S7R-jRj",
    "outputId": "f605a14c-2e63-40b0-c090-baa996577026"
   },
   "outputs": [
    {
     "data": {
      "text/html": [
       "\n",
       "  <div id=\"df-64a02026-ce44-40c7-975e-a1dbd97d6c85\">\n",
       "    <div class=\"colab-df-container\">\n",
       "      <div>\n",
       "<style scoped>\n",
       "    .dataframe tbody tr th:only-of-type {\n",
       "        vertical-align: middle;\n",
       "    }\n",
       "\n",
       "    .dataframe tbody tr th {\n",
       "        vertical-align: top;\n",
       "    }\n",
       "\n",
       "    .dataframe thead th {\n",
       "        text-align: right;\n",
       "    }\n",
       "</style>\n",
       "<table border=\"1\" class=\"dataframe\">\n",
       "  <thead>\n",
       "    <tr style=\"text-align: right;\">\n",
       "      <th></th>\n",
       "      <th>id</th>\n",
       "      <th>gender</th>\n",
       "      <th>age</th>\n",
       "      <th>hypertension</th>\n",
       "      <th>heart_disease</th>\n",
       "      <th>ever_married</th>\n",
       "      <th>work_type</th>\n",
       "      <th>Residence_type</th>\n",
       "      <th>avg_glucose_level</th>\n",
       "      <th>bmi</th>\n",
       "      <th>smoking_status</th>\n",
       "      <th>stroke</th>\n",
       "    </tr>\n",
       "  </thead>\n",
       "  <tbody>\n",
       "    <tr>\n",
       "      <th>0</th>\n",
       "      <td>9046</td>\n",
       "      <td>Male</td>\n",
       "      <td>67.0</td>\n",
       "      <td>0</td>\n",
       "      <td>1</td>\n",
       "      <td>Yes</td>\n",
       "      <td>Private</td>\n",
       "      <td>Urban</td>\n",
       "      <td>228.69</td>\n",
       "      <td>36.6</td>\n",
       "      <td>formerly smoked</td>\n",
       "      <td>1</td>\n",
       "    </tr>\n",
       "    <tr>\n",
       "      <th>1</th>\n",
       "      <td>51676</td>\n",
       "      <td>Female</td>\n",
       "      <td>61.0</td>\n",
       "      <td>0</td>\n",
       "      <td>0</td>\n",
       "      <td>Yes</td>\n",
       "      <td>Self-employed</td>\n",
       "      <td>Rural</td>\n",
       "      <td>202.21</td>\n",
       "      <td>NaN</td>\n",
       "      <td>never smoked</td>\n",
       "      <td>1</td>\n",
       "    </tr>\n",
       "    <tr>\n",
       "      <th>2</th>\n",
       "      <td>31112</td>\n",
       "      <td>Male</td>\n",
       "      <td>80.0</td>\n",
       "      <td>0</td>\n",
       "      <td>1</td>\n",
       "      <td>Yes</td>\n",
       "      <td>Private</td>\n",
       "      <td>Rural</td>\n",
       "      <td>105.92</td>\n",
       "      <td>32.5</td>\n",
       "      <td>never smoked</td>\n",
       "      <td>1</td>\n",
       "    </tr>\n",
       "    <tr>\n",
       "      <th>3</th>\n",
       "      <td>60182</td>\n",
       "      <td>Female</td>\n",
       "      <td>49.0</td>\n",
       "      <td>0</td>\n",
       "      <td>0</td>\n",
       "      <td>Yes</td>\n",
       "      <td>Private</td>\n",
       "      <td>Urban</td>\n",
       "      <td>171.23</td>\n",
       "      <td>34.4</td>\n",
       "      <td>smokes</td>\n",
       "      <td>1</td>\n",
       "    </tr>\n",
       "    <tr>\n",
       "      <th>4</th>\n",
       "      <td>1665</td>\n",
       "      <td>Female</td>\n",
       "      <td>79.0</td>\n",
       "      <td>1</td>\n",
       "      <td>0</td>\n",
       "      <td>Yes</td>\n",
       "      <td>Self-employed</td>\n",
       "      <td>Rural</td>\n",
       "      <td>174.12</td>\n",
       "      <td>24.0</td>\n",
       "      <td>never smoked</td>\n",
       "      <td>1</td>\n",
       "    </tr>\n",
       "  </tbody>\n",
       "</table>\n",
       "</div>\n",
       "      <button class=\"colab-df-convert\" onclick=\"convertToInteractive('df-64a02026-ce44-40c7-975e-a1dbd97d6c85')\"\n",
       "              title=\"Convert this dataframe to an interactive table.\"\n",
       "              style=\"display:none;\">\n",
       "        \n",
       "  <svg xmlns=\"http://www.w3.org/2000/svg\" height=\"24px\"viewBox=\"0 0 24 24\"\n",
       "       width=\"24px\">\n",
       "    <path d=\"M0 0h24v24H0V0z\" fill=\"none\"/>\n",
       "    <path d=\"M18.56 5.44l.94 2.06.94-2.06 2.06-.94-2.06-.94-.94-2.06-.94 2.06-2.06.94zm-11 1L8.5 8.5l.94-2.06 2.06-.94-2.06-.94L8.5 2.5l-.94 2.06-2.06.94zm10 10l.94 2.06.94-2.06 2.06-.94-2.06-.94-.94-2.06-.94 2.06-2.06.94z\"/><path d=\"M17.41 7.96l-1.37-1.37c-.4-.4-.92-.59-1.43-.59-.52 0-1.04.2-1.43.59L10.3 9.45l-7.72 7.72c-.78.78-.78 2.05 0 2.83L4 21.41c.39.39.9.59 1.41.59.51 0 1.02-.2 1.41-.59l7.78-7.78 2.81-2.81c.8-.78.8-2.07 0-2.86zM5.41 20L4 18.59l7.72-7.72 1.47 1.35L5.41 20z\"/>\n",
       "  </svg>\n",
       "      </button>\n",
       "      \n",
       "  <style>\n",
       "    .colab-df-container {\n",
       "      display:flex;\n",
       "      flex-wrap:wrap;\n",
       "      gap: 12px;\n",
       "    }\n",
       "\n",
       "    .colab-df-convert {\n",
       "      background-color: #E8F0FE;\n",
       "      border: none;\n",
       "      border-radius: 50%;\n",
       "      cursor: pointer;\n",
       "      display: none;\n",
       "      fill: #1967D2;\n",
       "      height: 32px;\n",
       "      padding: 0 0 0 0;\n",
       "      width: 32px;\n",
       "    }\n",
       "\n",
       "    .colab-df-convert:hover {\n",
       "      background-color: #E2EBFA;\n",
       "      box-shadow: 0px 1px 2px rgba(60, 64, 67, 0.3), 0px 1px 3px 1px rgba(60, 64, 67, 0.15);\n",
       "      fill: #174EA6;\n",
       "    }\n",
       "\n",
       "    [theme=dark] .colab-df-convert {\n",
       "      background-color: #3B4455;\n",
       "      fill: #D2E3FC;\n",
       "    }\n",
       "\n",
       "    [theme=dark] .colab-df-convert:hover {\n",
       "      background-color: #434B5C;\n",
       "      box-shadow: 0px 1px 3px 1px rgba(0, 0, 0, 0.15);\n",
       "      filter: drop-shadow(0px 1px 2px rgba(0, 0, 0, 0.3));\n",
       "      fill: #FFFFFF;\n",
       "    }\n",
       "  </style>\n",
       "\n",
       "      <script>\n",
       "        const buttonEl =\n",
       "          document.querySelector('#df-64a02026-ce44-40c7-975e-a1dbd97d6c85 button.colab-df-convert');\n",
       "        buttonEl.style.display =\n",
       "          google.colab.kernel.accessAllowed ? 'block' : 'none';\n",
       "\n",
       "        async function convertToInteractive(key) {\n",
       "          const element = document.querySelector('#df-64a02026-ce44-40c7-975e-a1dbd97d6c85');\n",
       "          const dataTable =\n",
       "            await google.colab.kernel.invokeFunction('convertToInteractive',\n",
       "                                                     [key], {});\n",
       "          if (!dataTable) return;\n",
       "\n",
       "          const docLinkHtml = 'Like what you see? Visit the ' +\n",
       "            '<a target=\"_blank\" href=https://colab.research.google.com/notebooks/data_table.ipynb>data table notebook</a>'\n",
       "            + ' to learn more about interactive tables.';\n",
       "          element.innerHTML = '';\n",
       "          dataTable['output_type'] = 'display_data';\n",
       "          await google.colab.output.renderOutput(dataTable, element);\n",
       "          const docLink = document.createElement('div');\n",
       "          docLink.innerHTML = docLinkHtml;\n",
       "          element.appendChild(docLink);\n",
       "        }\n",
       "      </script>\n",
       "    </div>\n",
       "  </div>\n",
       "  "
      ],
      "text/plain": [
       "      id  gender   age  hypertension  heart_disease ever_married  \\\n",
       "0   9046    Male  67.0             0              1          Yes   \n",
       "1  51676  Female  61.0             0              0          Yes   \n",
       "2  31112    Male  80.0             0              1          Yes   \n",
       "3  60182  Female  49.0             0              0          Yes   \n",
       "4   1665  Female  79.0             1              0          Yes   \n",
       "\n",
       "       work_type Residence_type  avg_glucose_level   bmi   smoking_status  \\\n",
       "0        Private          Urban             228.69  36.6  formerly smoked   \n",
       "1  Self-employed          Rural             202.21   NaN     never smoked   \n",
       "2        Private          Rural             105.92  32.5     never smoked   \n",
       "3        Private          Urban             171.23  34.4           smokes   \n",
       "4  Self-employed          Rural             174.12  24.0     never smoked   \n",
       "\n",
       "   stroke  \n",
       "0       1  \n",
       "1       1  \n",
       "2       1  \n",
       "3       1  \n",
       "4       1  "
      ]
     },
     "execution_count": 3,
     "metadata": {},
     "output_type": "execute_result"
    }
   ],
   "source": [
    "df = pd.read_csv('healthcare-dataset-stroke-data.csv')\n",
    "df.head()"
   ]
  },
  {
   "cell_type": "code",
   "execution_count": 4,
   "metadata": {
    "colab": {
     "base_uri": "https://localhost:8080/"
    },
    "id": "UkirAg3yA_ru",
    "outputId": "3af91c80-a39d-4060-aa40-206ae0a375f3"
   },
   "outputs": [
    {
     "data": {
      "text/plain": [
       "0"
      ]
     },
     "execution_count": 4,
     "metadata": {},
     "output_type": "execute_result"
    }
   ],
   "source": [
    "df.duplicated().sum()"
   ]
  },
  {
   "cell_type": "code",
   "execution_count": 5,
   "metadata": {
    "colab": {
     "base_uri": "https://localhost:8080/"
    },
    "id": "79l60Dz5_Dfp",
    "outputId": "2f04569f-1503-407e-f678-b8c5a54df5c5"
   },
   "outputs": [
    {
     "data": {
      "text/plain": [
       "id                     0\n",
       "gender                 0\n",
       "age                    0\n",
       "hypertension           0\n",
       "heart_disease          0\n",
       "ever_married           0\n",
       "work_type              0\n",
       "Residence_type         0\n",
       "avg_glucose_level      0\n",
       "bmi                  201\n",
       "smoking_status         0\n",
       "stroke                 0\n",
       "dtype: int64"
      ]
     },
     "execution_count": 5,
     "metadata": {},
     "output_type": "execute_result"
    }
   ],
   "source": [
    "df.isnull().sum()"
   ]
  },
  {
   "cell_type": "code",
   "execution_count": 6,
   "metadata": {
    "id": "Yos8gzTksFrJ"
   },
   "outputs": [],
   "source": [
    "mean_a = df['bmi'].mean()\n",
    "df['bmi'].fillna(mean_a, inplace=True)"
   ]
  },
  {
   "cell_type": "code",
   "execution_count": 7,
   "metadata": {
    "colab": {
     "base_uri": "https://localhost:8080/",
     "height": 530
    },
    "id": "jXKPrxSiBG3G",
    "outputId": "345e3586-10a3-4ae6-91c8-67c0b00f7353"
   },
   "outputs": [
    {
     "data": {
      "text/plain": [
       "<seaborn.axisgrid.FacetGrid at 0x7fcfdcd639d0>"
      ]
     },
     "execution_count": 7,
     "metadata": {},
     "output_type": "execute_result"
    },
    {
     "data": {
      "image/png": "[encoded data removed]",
      "text/plain": [
       "<Figure size 504x504 with 1 Axes>"
      ]
     },
     "metadata": {
      "needs_background": "light"
     },
     "output_type": "display_data"
    }
   ],
   "source": [
    "sns.displot(df['age'], kind='kde', height = 7)"
   ]
  },
  {
   "cell_type": "code",
   "execution_count": 8,
   "metadata": {
    "colab": {
     "base_uri": "https://localhost:8080/",
     "height": 405
    },
    "id": "PpD2A1duBMjS",
    "outputId": "e4ca0ed5-2615-4c4b-9dc6-368fd8e2fb18"
   },
   "outputs": [
    {
     "data": {
      "text/plain": [
       "<matplotlib.axes._subplots.AxesSubplot at 0x7fcf714e90a0>"
      ]
     },
     "execution_count": 8,
     "metadata": {},
     "output_type": "execute_result"
    },
    {
     "data": {
      "image/png": "[encoded data removed]",
      "text/plain": [
       "<Figure size 1152x432 with 2 Axes>"
      ]
     },
     "metadata": {
      "needs_background": "light"
     },
     "output_type": "display_data"
    }
   ],
   "source": [
    "plt.figure(figsize=(16,6))\n",
    "plt.subplot(1,2,1)\n",
    "sns.countplot(x = df['gender'])\n",
    "plt.subplot(1,2,2)\n",
    "df['gender'].value_counts().plot(kind='pie',autopct=\"%.2f\")"
   ]
  },
  {
   "cell_type": "code",
   "execution_count": 9,
   "metadata": {
    "colab": {
     "base_uri": "https://localhost:8080/",
     "height": 406
    },
    "id": "oAlNBiO5D-C8",
    "outputId": "7c9f0c06-7373-4470-fe3b-f14ac76bd5fb"
   },
   "outputs": [
    {
     "data": {
      "text/plain": [
       "<matplotlib.axes._subplots.AxesSubplot at 0x7fcf713e8760>"
      ]
     },
     "execution_count": 9,
     "metadata": {},
     "output_type": "execute_result"
    },
    {
     "data": {
      "image/png": "[encoded data removed]",
      "text/plain": [
       "<Figure size 1152x432 with 2 Axes>"
      ]
     },
     "metadata": {
      "needs_background": "light"
     },
     "output_type": "display_data"
    }
   ],
   "source": [
    "plt.figure(figsize=(16,6))\n",
    "plt.subplot(1,2,1)\n",
    "sns.countplot(x = df['smoking_status'])\n",
    "plt.subplot(1,2,2)\n",
    "df['smoking_status'].value_counts().plot(kind='pie',autopct=\"%.2f\")"
   ]
  },
  {
   "cell_type": "code",
   "execution_count": 11,
   "metadata": {
    "colab": {
     "base_uri": "https://localhost:8080/",
     "height": 386
    },
    "id": "IKyAT64fs1sp",
    "outputId": "99157ed5-6ec9-4946-c612-cb1baac22931"
   },
   "outputs": [
    {
     "data": {
      "image/png": "[encoded data removed]",
      "text/plain": [
       "<Figure size 576x432 with 1 Axes>"
      ]
     },
     "metadata": {
      "needs_background": "light"
     },
     "output_type": "display_data"
    }
   ],
   "source": [
    "fig , ax = plt.subplots(figsize=(8,6))\n",
    "\n",
    "df['stroke'].value_counts(normalize=True).mul(100).plot.bar()\n",
    "\n",
    "plt.title(\"stroke\")\n",
    "plt.show()"
   ]
  },
  {
   "cell_type": "code",
   "execution_count": 12,
   "metadata": {
    "colab": {
     "base_uri": "https://localhost:8080/"
    },
    "id": "FBXmOjHSsRW_",
    "outputId": "79d1f280-bddd-4f41-fc7d-bb74f88a60c6"
   },
   "outputs": [
    {
     "data": {
      "text/plain": [
       "0    4861\n",
       "1    4700\n",
       "Name: stroke, dtype: int64"
      ]
     },
     "execution_count": 12,
     "metadata": {},
     "output_type": "execute_result"
    }
   ],
   "source": [
    "from sklearn.utils import resample\n",
    "\n",
    "#Upsampling minority class: stroke = 1\n",
    "df_majority = df[df['stroke']==0]\n",
    "df_minority = df[df['stroke']==1]\n",
    "\n",
    "df_minority_oversampled = resample(df_minority, replace = True, n_samples=4700, random_state=42)\n",
    "\n",
    "df_oversampled = pd.concat([df_majority, df_minority_oversampled])\n",
    "\n",
    "df_oversampled['stroke'].value_counts()"
   ]
  },
  {
   "cell_type": "code",
   "execution_count": 13,
   "metadata": {
    "id": "8xw5mHoasUMj"
   },
   "outputs": [],
   "source": [
    "df = df_oversampled"
   ]
  },
  {
   "cell_type": "code",
   "execution_count": 14,
   "metadata": {
    "id": "OMA2eiZY_Qa3"
   },
   "outputs": [],
   "source": [
    "df.drop(columns=['id'], axis=1, inplace=True)\n",
    "\n",
    "X = df.iloc[:,0:10]\n",
    "y = df.iloc[:,10]"
   ]
  },
  {
   "cell_type": "code",
   "execution_count": 15,
   "metadata": {
    "colab": {
     "base_uri": "https://localhost:8080/"
    },
    "id": "5qfKHMCB_Wsd",
    "outputId": "9803faf5-1996-49b5-abca-15418505f4b2"
   },
   "outputs": [
    {
     "data": {
      "text/plain": [
       "(9561, 10)"
      ]
     },
     "execution_count": 15,
     "metadata": {},
     "output_type": "execute_result"
    }
   ],
   "source": [
    "X.shape"
   ]
  },
  {
   "cell_type": "code",
   "execution_count": 16,
   "metadata": {
    "colab": {
     "base_uri": "https://localhost:8080/"
    },
    "id": "tzeLaytU_Yfi",
    "outputId": "a1208970-730b-46ae-f587-508f0ba39dc2"
   },
   "outputs": [
    {
     "data": {
      "text/plain": [
       "(9561,)"
      ]
     },
     "execution_count": 16,
     "metadata": {},
     "output_type": "execute_result"
    }
   ],
   "source": [
    "y.shape"
   ]
  },
  {
   "cell_type": "code",
   "execution_count": 17,
   "metadata": {
    "id": "u3cDl_KuAMRi"
   },
   "outputs": [],
   "source": [
    "X_train, X_test, y_train, y_test = train_test_split(X,y,test_size=0.3,random_state=42)"
   ]
  },
  {
   "cell_type": "code",
   "execution_count": 18,
   "metadata": {
    "id": "69o0WQL3_bUc"
   },
   "outputs": [],
   "source": [
    "from sklearn.compose import ColumnTransformer\n",
    "from sklearn.preprocessing import StandardScaler, OneHotEncoder\n",
    "\n",
    "\n",
    "numerical_cols = ['age', 'avg_glucose_level', 'bmi']\n",
    "categorical_cols = ['gender', 'ever_married', 'work_type',\t'Residence_type', 'smoking_status' ]\n",
    "\n",
    "\n",
    "numerical_transformer = StandardScaler()\n",
    "categorical_transformer = OneHotEncoder()\n",
    "\n",
    "preprocessor = ColumnTransformer(\n",
    "    transformers=[\n",
    "        ('num', numerical_transformer, numerical_cols),\n",
    "        ('cat', categorical_transformer, categorical_cols)\n",
    "    ],\n",
    "    remainder='passthrough'\n",
    ")\n",
    "\n",
    "\n",
    "preprocessor = preprocessor.fit(X)\n",
    "X_train = preprocessor.transform(X_train)\n",
    "X_test = preprocessor.transform(X_test)"
   ]
  },
  {
   "cell_type": "code",
   "execution_count": 24,
   "metadata": {
    "colab": {
     "base_uri": "https://localhost:8080/"
    },
    "id": "J59jBByQ-kTp",
    "outputId": "3b8acc52-6390-4c0f-c346-3ffa979db2c0"
   },
   "outputs": [
    {
     "name": "stdout",
     "output_type": "stream",
     "text": [
      "Model: \"sequential_1\"\n",
      "_________________________________________________________________\n",
      " Layer (type)                Output Shape              Param #   \n",
      "=================================================================\n",
      " dense_3 (Dense)             (None, 20)                440       \n",
      "                                                                 \n",
      " dense_4 (Dense)             (None, 20)                420       \n",
      "                                                                 \n",
      " dense_5 (Dense)             (None, 1)                 21        \n",
      "                                                                 \n",
      "=================================================================\n",
      "Total params: 881\n",
      "Trainable params: 881\n",
      "Non-trainable params: 0\n",
      "_________________________________________________________________\n"
     ]
    }
   ],
   "source": [
    "ANN_classifier = Sequential()\n",
    "\n",
    "ANN_classifier.add(Dense(units=20, input_dim=X_train.shape[1], activation='relu'))\n",
    "\n",
    "ANN_classifier.add(Dense(units=20,activation='relu'))\n",
    " \n",
    "ANN_classifier.add(Dense(units=1,activation='sigmoid'))\n",
    " \n",
    "ANN_classifier.compile(optimizer='adam', loss='binary_crossentropy', metrics=['accuracy'])\n",
    "\n",
    "ANN_classifier.summary()"
   ]
  },
  {
   "cell_type": "code",
   "execution_count": 25,
   "metadata": {
    "colab": {
     "base_uri": "https://localhost:8080/"
    },
    "id": "BbJ0npjJhgHO",
    "outputId": "3221e241-6289-4d34-ee24-0f72c4d9da51"
   },
   "outputs": [
    {
     "name": "stdout",
     "output_type": "stream",
     "text": [
      "Epoch 1/60\n",
      "670/670 [==============================] - 4s 4ms/step - loss: 0.5016 - accuracy: 0.7627 - val_loss: 0.4816 - val_accuracy: 0.7707\n",
      "Epoch 2/60\n",
      "670/670 [==============================] - 2s 3ms/step - loss: 0.4554 - accuracy: 0.7887 - val_loss: 0.4509 - val_accuracy: 0.8051\n",
      "Epoch 3/60\n",
      "670/670 [==============================] - 3s 5ms/step - loss: 0.4410 - accuracy: 0.7954 - val_loss: 0.4402 - val_accuracy: 0.8088\n",
      "Epoch 4/60\n",
      "670/670 [==============================] - 1s 2ms/step - loss: 0.4287 - accuracy: 0.8037 - val_loss: 0.4314 - val_accuracy: 0.8125\n",
      "Epoch 5/60\n",
      "670/670 [==============================] - 1s 2ms/step - loss: 0.4168 - accuracy: 0.8085 - val_loss: 0.4215 - val_accuracy: 0.8073\n",
      "Epoch 6/60\n",
      "670/670 [==============================] - 2s 2ms/step - loss: 0.4044 - accuracy: 0.8156 - val_loss: 0.4150 - val_accuracy: 0.8125\n",
      "Epoch 7/60\n",
      "670/670 [==============================] - 1s 2ms/step - loss: 0.3957 - accuracy: 0.8152 - val_loss: 0.4069 - val_accuracy: 0.8148\n",
      "Epoch 8/60\n",
      "670/670 [==============================] - 1s 2ms/step - loss: 0.3870 - accuracy: 0.8233 - val_loss: 0.3995 - val_accuracy: 0.8275\n",
      "Epoch 9/60\n",
      "670/670 [==============================] - 1s 2ms/step - loss: 0.3786 - accuracy: 0.8304 - val_loss: 0.3963 - val_accuracy: 0.8402\n",
      "Epoch 10/60\n",
      "670/670 [==============================] - 1s 2ms/step - loss: 0.3702 - accuracy: 0.8418 - val_loss: 0.3894 - val_accuracy: 0.8432\n",
      "Epoch 11/60\n",
      "670/670 [==============================] - 1s 2ms/step - loss: 0.3636 - accuracy: 0.8474 - val_loss: 0.3821 - val_accuracy: 0.8454\n",
      "Epoch 12/60\n",
      "670/670 [==============================] - 1s 2ms/step - loss: 0.3561 - accuracy: 0.8491 - val_loss: 0.3842 - val_accuracy: 0.8439\n",
      "Epoch 13/60\n",
      "670/670 [==============================] - 1s 2ms/step - loss: 0.3501 - accuracy: 0.8543 - val_loss: 0.3767 - val_accuracy: 0.8596\n",
      "Epoch 14/60\n",
      "670/670 [==============================] - 1s 2ms/step - loss: 0.3443 - accuracy: 0.8560 - val_loss: 0.3672 - val_accuracy: 0.8656\n",
      "Epoch 15/60\n",
      "670/670 [==============================] - 1s 2ms/step - loss: 0.3383 - accuracy: 0.8601 - val_loss: 0.3644 - val_accuracy: 0.8648\n",
      "Epoch 16/60\n",
      "670/670 [==============================] - 1s 2ms/step - loss: 0.3330 - accuracy: 0.8584 - val_loss: 0.3587 - val_accuracy: 0.8671\n",
      "Epoch 17/60\n",
      "670/670 [==============================] - 1s 2ms/step - loss: 0.3260 - accuracy: 0.8642 - val_loss: 0.3573 - val_accuracy: 0.8656\n",
      "Epoch 18/60\n",
      "670/670 [==============================] - 1s 2ms/step - loss: 0.3214 - accuracy: 0.8655 - val_loss: 0.3579 - val_accuracy: 0.8588\n",
      "Epoch 19/60\n",
      "670/670 [==============================] - 1s 2ms/step - loss: 0.3173 - accuracy: 0.8668 - val_loss: 0.3550 - val_accuracy: 0.8663\n",
      "Epoch 20/60\n",
      "670/670 [==============================] - 1s 2ms/step - loss: 0.3110 - accuracy: 0.8713 - val_loss: 0.3448 - val_accuracy: 0.8730\n",
      "Epoch 21/60\n",
      "670/670 [==============================] - 1s 2ms/step - loss: 0.3078 - accuracy: 0.8704 - val_loss: 0.3447 - val_accuracy: 0.8686\n",
      "Epoch 22/60\n",
      "670/670 [==============================] - 1s 2ms/step - loss: 0.3031 - accuracy: 0.8707 - val_loss: 0.3448 - val_accuracy: 0.8723\n",
      "Epoch 23/60\n",
      "670/670 [==============================] - 1s 2ms/step - loss: 0.2987 - accuracy: 0.8748 - val_loss: 0.3371 - val_accuracy: 0.8656\n",
      "Epoch 24/60\n",
      "670/670 [==============================] - 1s 2ms/step - loss: 0.2960 - accuracy: 0.8756 - val_loss: 0.3322 - val_accuracy: 0.8827\n",
      "Epoch 25/60\n",
      "670/670 [==============================] - 1s 2ms/step - loss: 0.2916 - accuracy: 0.8780 - val_loss: 0.3331 - val_accuracy: 0.8775\n",
      "Epoch 26/60\n",
      "670/670 [==============================] - 1s 2ms/step - loss: 0.2899 - accuracy: 0.8786 - val_loss: 0.3302 - val_accuracy: 0.8738\n",
      "Epoch 27/60\n",
      "670/670 [==============================] - 1s 2ms/step - loss: 0.2852 - accuracy: 0.8786 - val_loss: 0.3291 - val_accuracy: 0.8820\n",
      "Epoch 28/60\n",
      "670/670 [==============================] - 1s 2ms/step - loss: 0.2825 - accuracy: 0.8825 - val_loss: 0.3251 - val_accuracy: 0.8790\n",
      "Epoch 29/60\n",
      "670/670 [==============================] - 1s 2ms/step - loss: 0.2775 - accuracy: 0.8836 - val_loss: 0.3219 - val_accuracy: 0.8693\n",
      "Epoch 30/60\n",
      "670/670 [==============================] - 1s 2ms/step - loss: 0.2772 - accuracy: 0.8857 - val_loss: 0.3202 - val_accuracy: 0.8790\n",
      "Epoch 31/60\n",
      "670/670 [==============================] - 1s 2ms/step - loss: 0.2730 - accuracy: 0.8846 - val_loss: 0.3178 - val_accuracy: 0.8753\n",
      "Epoch 32/60\n",
      "670/670 [==============================] - 1s 2ms/step - loss: 0.2694 - accuracy: 0.8842 - val_loss: 0.3128 - val_accuracy: 0.8850\n",
      "Epoch 33/60\n",
      "670/670 [==============================] - 1s 2ms/step - loss: 0.2664 - accuracy: 0.8862 - val_loss: 0.3107 - val_accuracy: 0.8850\n",
      "Epoch 34/60\n",
      "670/670 [==============================] - 1s 2ms/step - loss: 0.2642 - accuracy: 0.8898 - val_loss: 0.3080 - val_accuracy: 0.8872\n",
      "Epoch 35/60\n",
      "670/670 [==============================] - 1s 2ms/step - loss: 0.2603 - accuracy: 0.8907 - val_loss: 0.3039 - val_accuracy: 0.8880\n",
      "Epoch 36/60\n",
      "670/670 [==============================] - 1s 2ms/step - loss: 0.2572 - accuracy: 0.8915 - val_loss: 0.3187 - val_accuracy: 0.8783\n",
      "Epoch 37/60\n",
      "670/670 [==============================] - 1s 2ms/step - loss: 0.2567 - accuracy: 0.8928 - val_loss: 0.3057 - val_accuracy: 0.8887\n",
      "Epoch 38/60\n",
      "670/670 [==============================] - 1s 2ms/step - loss: 0.2527 - accuracy: 0.8971 - val_loss: 0.2987 - val_accuracy: 0.8895\n",
      "Epoch 39/60\n",
      "670/670 [==============================] - 1s 2ms/step - loss: 0.2494 - accuracy: 0.9002 - val_loss: 0.2966 - val_accuracy: 0.8842\n",
      "Epoch 40/60\n",
      "670/670 [==============================] - 1s 2ms/step - loss: 0.2473 - accuracy: 0.9002 - val_loss: 0.2931 - val_accuracy: 0.8932\n",
      "Epoch 41/60\n",
      "670/670 [==============================] - 1s 2ms/step - loss: 0.2448 - accuracy: 0.9044 - val_loss: 0.3034 - val_accuracy: 0.8753\n",
      "Epoch 42/60\n",
      "670/670 [==============================] - 1s 2ms/step - loss: 0.2426 - accuracy: 0.9085 - val_loss: 0.2903 - val_accuracy: 0.8954\n",
      "Epoch 43/60\n",
      "670/670 [==============================] - 1s 2ms/step - loss: 0.2394 - accuracy: 0.9045 - val_loss: 0.2918 - val_accuracy: 0.8902\n",
      "Epoch 44/60\n",
      "670/670 [==============================] - 1s 2ms/step - loss: 0.2366 - accuracy: 0.9085 - val_loss: 0.2851 - val_accuracy: 0.8910\n",
      "Epoch 45/60\n",
      "670/670 [==============================] - 1s 2ms/step - loss: 0.2345 - accuracy: 0.9139 - val_loss: 0.2899 - val_accuracy: 0.8917\n",
      "Epoch 46/60\n",
      "670/670 [==============================] - 1s 2ms/step - loss: 0.2329 - accuracy: 0.9113 - val_loss: 0.2865 - val_accuracy: 0.9014\n",
      "Epoch 47/60\n",
      "670/670 [==============================] - 1s 2ms/step - loss: 0.2303 - accuracy: 0.9111 - val_loss: 0.2807 - val_accuracy: 0.8977\n",
      "Epoch 48/60\n",
      "670/670 [==============================] - 1s 2ms/step - loss: 0.2273 - accuracy: 0.9133 - val_loss: 0.2841 - val_accuracy: 0.8969\n",
      "Epoch 49/60\n",
      "670/670 [==============================] - 1s 2ms/step - loss: 0.2258 - accuracy: 0.9165 - val_loss: 0.3009 - val_accuracy: 0.8940\n",
      "Epoch 50/60\n",
      "670/670 [==============================] - 1s 2ms/step - loss: 0.2230 - accuracy: 0.9159 - val_loss: 0.2733 - val_accuracy: 0.8992\n",
      "Epoch 51/60\n",
      "670/670 [==============================] - 1s 2ms/step - loss: 0.2218 - accuracy: 0.9159 - val_loss: 0.2816 - val_accuracy: 0.8910\n",
      "Epoch 52/60\n",
      "670/670 [==============================] - 1s 2ms/step - loss: 0.2199 - accuracy: 0.9182 - val_loss: 0.2822 - val_accuracy: 0.9029\n",
      "Epoch 53/60\n",
      "670/670 [==============================] - 1s 2ms/step - loss: 0.2178 - accuracy: 0.9193 - val_loss: 0.2783 - val_accuracy: 0.9007\n",
      "Epoch 54/60\n",
      "670/670 [==============================] - 1s 1ms/step - loss: 0.2145 - accuracy: 0.9227 - val_loss: 0.2816 - val_accuracy: 0.8999\n",
      "Epoch 55/60\n",
      "670/670 [==============================] - 1s 2ms/step - loss: 0.2136 - accuracy: 0.9212 - val_loss: 0.2780 - val_accuracy: 0.9029\n",
      "Epoch 56/60\n",
      "670/670 [==============================] - 1s 2ms/step - loss: 0.2110 - accuracy: 0.9243 - val_loss: 0.2733 - val_accuracy: 0.8999\n",
      "Epoch 57/60\n",
      "670/670 [==============================] - 1s 2ms/step - loss: 0.2108 - accuracy: 0.9236 - val_loss: 0.2857 - val_accuracy: 0.8895\n",
      "Epoch 58/60\n",
      "670/670 [==============================] - 1s 2ms/step - loss: 0.2097 - accuracy: 0.9215 - val_loss: 0.2671 - val_accuracy: 0.9059\n",
      "Epoch 59/60\n",
      "670/670 [==============================] - 1s 2ms/step - loss: 0.2043 - accuracy: 0.9281 - val_loss: 0.2725 - val_accuracy: 0.8992\n",
      "Epoch 60/60\n",
      "670/670 [==============================] - 2s 3ms/step - loss: 0.2030 - accuracy: 0.9275 - val_loss: 0.2734 - val_accuracy: 0.8999\n"
     ]
    }
   ],
   "source": [
    "history = ANN_classifier.fit(X_train,y_train, batch_size=8 , epochs=60, validation_split=0.2, verbose=1)"
   ]
  },
  {
   "cell_type": "code",
   "execution_count": 26,
   "metadata": {
    "colab": {
     "base_uri": "https://localhost:8080/",
     "height": 295
    },
    "id": "gvMF3nV7pFox",
    "outputId": "844b95c3-5262-44f7-b01e-3a19e7084c28"
   },
   "outputs": [
    {
     "data": {
      "image/png": "[encoded data removed]",
      "text/plain": [
       "<Figure size 432x288 with 1 Axes>"
      ]
     },
     "metadata": {
      "needs_background": "light"
     },
     "output_type": "display_data"
    }
   ],
   "source": [
    "plt.plot(history.history['accuracy'])\n",
    "plt.plot(history.history['val_accuracy'])\n",
    "plt.title('model accuracy')\n",
    "plt.ylabel('accuracy')\n",
    "plt.xlabel('epoch')\n",
    "plt.legend(['train', 'test'], loc='upper left')\n",
    "plt.show()"
   ]
  },
  {
   "cell_type": "code",
   "execution_count": 27,
   "metadata": {
    "colab": {
     "base_uri": "https://localhost:8080/",
     "height": 295
    },
    "id": "cXj6VgDkpGLt",
    "outputId": "5c830cfb-1153-47a1-c542-60128aa742a4"
   },
   "outputs": [
    {
     "data": {
      "image/png": "[encoded data removed]",
      "text/plain": [
       "<Figure size 432x288 with 1 Axes>"
      ]
     },
     "metadata": {
      "needs_background": "light"
     },
     "output_type": "display_data"
    }
   ],
   "source": [
    "plt.plot(history.history['loss'])\n",
    "plt.plot(history.history['val_loss'])\n",
    "plt.title('model accuracy')\n",
    "plt.ylabel('accuracy')\n",
    "plt.xlabel('epoch')\n",
    "plt.legend(['train', 'test'], loc='upper left')\n",
    "plt.show()"
   ]
  },
  {
   "cell_type": "code",
   "execution_count": 28,
   "metadata": {
    "colab": {
     "base_uri": "https://localhost:8080/"
    },
    "id": "zV2O6JfW-Wj0",
    "outputId": "0f85b8f1-0339-43b3-d473-9fe26a1e16bf"
   },
   "outputs": [
    {
     "name": "stdout",
     "output_type": "stream",
     "text": [
      "90/90 [==============================] - 0s 959us/step\n",
      "Accuracy: 0.902\n",
      "Precision: 0.847\n",
      "Recall: 0.975\n",
      "F1 Score 0.906\n",
      "ROC AUC: 0.904\n"
     ]
    }
   ],
   "source": [
    "from sklearn.metrics import accuracy_score,f1_score,recall_score,precision_score,confusion_matrix,roc_auc_score\n",
    "\n",
    "predictions = ANN_classifier.predict(X_test)\n",
    "predictions = predictions>0.5\n",
    "\n",
    "acc = accuracy_score(y_test, predictions)\n",
    "precision = precision_score(y_test, predictions)\n",
    "recall = recall_score(y_test, predictions)\n",
    "f1 = f1_score(y_test, predictions)\n",
    "roc_auc = roc_auc_score(y_test, predictions)\n",
    "\n",
    "print('Accuracy: {:.3f}' .format(acc))\n",
    "print('Precision: {:.3f}' .format(precision))\n",
    "print('Recall: {:.3f}' .format(recall))\n",
    "print('F1 Score {:.3f}' .format(f1))\n",
    "print('ROC AUC: {:.3f}' .format(roc_auc))"
   ]
  },
  {
   "cell_type": "code",
   "execution_count": 29,
   "metadata": {
    "colab": {
     "base_uri": "https://localhost:8080/"
    },
    "id": "r-cDA19QYi-Q",
    "outputId": "d045b86a-2869-4d03-bf88-887051694c87"
   },
   "outputs": [
    {
     "name": "stdout",
     "output_type": "stream",
     "text": [
      "              precision    recall  f1-score   support\n",
      "\n",
      "       False       0.83      0.97      0.90      1263\n",
      "        True       0.97      0.85      0.91      1606\n",
      "\n",
      "    accuracy                           0.90      2869\n",
      "   macro avg       0.90      0.91      0.90      2869\n",
      "weighted avg       0.91      0.90      0.90      2869\n",
      "\n"
     ]
    }
   ],
   "source": [
    "from sklearn.metrics import classification_report as rep\n",
    "report = rep(predictions,y_test)\n",
    "print(report)"
   ]
  }
 ],
 "metadata": {
  "colab": {
   "provenance": []
  },
  "kernelspec": {
   "display_name": "Python 3",
   "language": "python",
   "name": "python3"
  },
  "language_info": {
   "codemirror_mode": {
    "name": "ipython",
    "version": 3
   },
   "file_extension": ".py",
   "mimetype": "text/x-python",
   "name": "python",
   "nbconvert_exporter": "python",
   "pygments_lexer": "ipython3",
   "version": "3.7.3"
  }
 },
 "nbformat": 4,
 "nbformat_minor": 1
}
